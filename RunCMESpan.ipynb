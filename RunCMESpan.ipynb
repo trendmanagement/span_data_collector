{
 "cells": [
  {
   "cell_type": "code",
   "execution_count": 1,
   "metadata": {
    "collapsed": false
   },
   "outputs": [],
   "source": [
    "from span_reader.cme_span import CmeSpanImport"
   ]
  },
  {
   "cell_type": "code",
   "execution_count": null,
   "metadata": {
    "collapsed": true
   },
   "outputs": [],
   "source": [
    "input_args = {}\n",
    "\n",
    "\n",
    "input_args['risk_free_rate'] = 0.01\n",
    "\n",
    "\n",
    "input_args['optionenabled'] = 2\n",
    "\n",
    "csi = CmeSpanImport(input_args)\n",
    "\n",
    "filepath = \"C:\\\\Users\\\\Steve Pickering\\\\Desktop\\\\span_data_collector\\\\cme.20170106.c.pa2\"\n",
    "\n",
    "csi.load_span_file(filepath)"
   ]
  },
  {
   "cell_type": "code",
   "execution_count": null,
   "metadata": {
    "collapsed": true
   },
   "outputs": [],
   "source": [
    ""
   ]
  }
 ],
 "metadata": {
  "kernelspec": {
   "display_name": "Python 3",
   "language": "python",
   "name": "python3"
  },
  "language_info": {
   "codemirror_mode": {
    "name": "ipython",
    "version": 3.0
   },
   "file_extension": ".py",
   "mimetype": "text/x-python",
   "name": "python",
   "nbconvert_exporter": "python",
   "pygments_lexer": "ipython3",
   "version": "3.5.2"
  }
 },
 "nbformat": 4,
 "nbformat_minor": 0
}